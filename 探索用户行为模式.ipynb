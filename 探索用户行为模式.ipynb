{
 "cells": [
  {
   "cell_type": "markdown",
   "metadata": {},
   "source": [
    "### 针对淘宝用户--探索用户行为模式\n",
    " 分析方法：\n",
    "\n",
    "指标：\n",
    "\n",
    "1.日PV和日UV分析\n",
    "\n",
    "2.付费率分析\n",
    "\n",
    "3.复购行为分析\n",
    "\n",
    "4.漏洞流失分析\n",
    "\n",
    "5.用户价值RFM分析\n"
   ]
  },
  {
   "cell_type": "markdown",
   "metadata": {},
   "source": [
    "### 1.项目背景分析"
   ]
  },
  {
   "cell_type": "markdown",
   "metadata": {},
   "source": [
    "### 2.理解数据"
   ]
  },
  {
   "cell_type": "code",
   "execution_count": 4,
   "metadata": {},
   "outputs": [],
   "source": [
    "import pandas as pd\n",
    "import numpy as np\n",
    "import matplotlib.pyplot as plt\n",
    "import seaborn as sns\n",
    "\n",
    "%matplotlib inline\n",
    "sns.set(style=\"darkgrid\",font_scale=1.5)\n",
    "plt.rcParams['font.family'] = ['Arial Unicode MS']\n",
    "plt.rcParams[\"axes.unicode_minus\"] = False\n"
   ]
  },
  {
   "cell_type": "code",
   "execution_count": 5,
   "metadata": {},
   "outputs": [
    {
     "name": "stdout",
     "output_type": "stream",
     "text": [
      "<class 'pandas.core.frame.DataFrame'>\n",
      "RangeIndex: 12256906 entries, 0 to 12256905\n",
      "Data columns (total 6 columns):\n",
      " #   Column         Dtype \n",
      "---  ------         ----- \n",
      " 0   user_id        object\n",
      " 1   item_id        object\n",
      " 2   behavior_type  object\n",
      " 3   user_geohash   object\n",
      " 4   item_category  object\n",
      " 5   time           object\n",
      "dtypes: object(6)\n",
      "memory usage: 561.1+ MB\n"
     ]
    }
   ],
   "source": [
    "d_user = pd.read_csv(\"./data/tianchi_mobile_recommend_train_user.csv\", dtype=str)\n",
    "d_user.info()"
   ]
  },
  {
   "cell_type": "code",
   "execution_count": 6,
   "metadata": {},
   "outputs": [
    {
     "data": {
      "text/html": [
       "<div>\n",
       "<style scoped>\n",
       "    .dataframe tbody tr th:only-of-type {\n",
       "        vertical-align: middle;\n",
       "    }\n",
       "\n",
       "    .dataframe tbody tr th {\n",
       "        vertical-align: top;\n",
       "    }\n",
       "\n",
       "    .dataframe thead th {\n",
       "        text-align: right;\n",
       "    }\n",
       "</style>\n",
       "<table border=\"1\" class=\"dataframe\">\n",
       "  <thead>\n",
       "    <tr style=\"text-align: right;\">\n",
       "      <th></th>\n",
       "      <th>user_id</th>\n",
       "      <th>item_id</th>\n",
       "      <th>behavior_type</th>\n",
       "      <th>user_geohash</th>\n",
       "      <th>item_category</th>\n",
       "      <th>time</th>\n",
       "    </tr>\n",
       "  </thead>\n",
       "  <tbody>\n",
       "    <tr>\n",
       "      <th>0</th>\n",
       "      <td>98047837</td>\n",
       "      <td>232431562</td>\n",
       "      <td>1</td>\n",
       "      <td>NaN</td>\n",
       "      <td>4245</td>\n",
       "      <td>2014-12-06 02</td>\n",
       "    </tr>\n",
       "    <tr>\n",
       "      <th>1</th>\n",
       "      <td>97726136</td>\n",
       "      <td>383583590</td>\n",
       "      <td>1</td>\n",
       "      <td>NaN</td>\n",
       "      <td>5894</td>\n",
       "      <td>2014-12-09 20</td>\n",
       "    </tr>\n",
       "    <tr>\n",
       "      <th>2</th>\n",
       "      <td>98607707</td>\n",
       "      <td>64749712</td>\n",
       "      <td>1</td>\n",
       "      <td>NaN</td>\n",
       "      <td>2883</td>\n",
       "      <td>2014-12-18 11</td>\n",
       "    </tr>\n",
       "    <tr>\n",
       "      <th>3</th>\n",
       "      <td>98662432</td>\n",
       "      <td>320593836</td>\n",
       "      <td>1</td>\n",
       "      <td>96nn52n</td>\n",
       "      <td>6562</td>\n",
       "      <td>2014-12-06 10</td>\n",
       "    </tr>\n",
       "    <tr>\n",
       "      <th>4</th>\n",
       "      <td>98145908</td>\n",
       "      <td>290208520</td>\n",
       "      <td>1</td>\n",
       "      <td>NaN</td>\n",
       "      <td>13926</td>\n",
       "      <td>2014-12-16 21</td>\n",
       "    </tr>\n",
       "  </tbody>\n",
       "</table>\n",
       "</div>"
      ],
      "text/plain": [
       "    user_id    item_id behavior_type user_geohash item_category           time\n",
       "0  98047837  232431562             1          NaN          4245  2014-12-06 02\n",
       "1  97726136  383583590             1          NaN          5894  2014-12-09 20\n",
       "2  98607707   64749712             1          NaN          2883  2014-12-18 11\n",
       "3  98662432  320593836             1      96nn52n          6562  2014-12-06 10\n",
       "4  98145908  290208520             1          NaN         13926  2014-12-16 21"
      ]
     },
     "execution_count": 6,
     "metadata": {},
     "output_type": "execute_result"
    }
   ],
   "source": [
    "d_user.head()"
   ]
  },
  {
   "cell_type": "markdown",
   "metadata": {},
   "source": [
    "### 3.数据预处理or数据清洗"
   ]
  },
  {
   "cell_type": "markdown",
   "metadata": {},
   "source": [
    "#### 3.1 缺失值分析"
   ]
  },
  {
   "cell_type": "code",
   "execution_count": 7,
   "metadata": {},
   "outputs": [
    {
     "data": {
      "text/plain": [
       "user_id          0.00000\n",
       "item_id          0.00000\n",
       "behavior_type    0.00000\n",
       "user_geohash     0.68001\n",
       "item_category    0.00000\n",
       "time             0.00000\n",
       "dtype: float64"
      ]
     },
     "execution_count": 7,
     "metadata": {},
     "output_type": "execute_result"
    }
   ],
   "source": [
    "d_user.apply(lambda x: sum(x.isnull())/len(x),axis=0)"
   ]
  },
  {
   "cell_type": "markdown",
   "metadata": {},
   "source": [
    "#### 3.2 对时间time进行一致化处理"
   ]
  },
  {
   "cell_type": "code",
   "execution_count": 8,
   "metadata": {},
   "outputs": [],
   "source": [
    "d_user[\"date\"] = d_user[\"time\"].str[0:10]\n",
    "d_user[\"hour\"] = d_user[\"time\"].str[11:]"
   ]
  },
  {
   "cell_type": "code",
   "execution_count": 9,
   "metadata": {},
   "outputs": [
    {
     "data": {
      "text/html": [
       "<div>\n",
       "<style scoped>\n",
       "    .dataframe tbody tr th:only-of-type {\n",
       "        vertical-align: middle;\n",
       "    }\n",
       "\n",
       "    .dataframe tbody tr th {\n",
       "        vertical-align: top;\n",
       "    }\n",
       "\n",
       "    .dataframe thead th {\n",
       "        text-align: right;\n",
       "    }\n",
       "</style>\n",
       "<table border=\"1\" class=\"dataframe\">\n",
       "  <thead>\n",
       "    <tr style=\"text-align: right;\">\n",
       "      <th></th>\n",
       "      <th>user_id</th>\n",
       "      <th>item_id</th>\n",
       "      <th>behavior_type</th>\n",
       "      <th>user_geohash</th>\n",
       "      <th>item_category</th>\n",
       "      <th>time</th>\n",
       "      <th>date</th>\n",
       "      <th>hour</th>\n",
       "    </tr>\n",
       "  </thead>\n",
       "  <tbody>\n",
       "    <tr>\n",
       "      <th>0</th>\n",
       "      <td>98047837</td>\n",
       "      <td>232431562</td>\n",
       "      <td>1</td>\n",
       "      <td>NaN</td>\n",
       "      <td>4245</td>\n",
       "      <td>2014-12-06 02</td>\n",
       "      <td>2014-12-06</td>\n",
       "      <td>02</td>\n",
       "    </tr>\n",
       "    <tr>\n",
       "      <th>1</th>\n",
       "      <td>97726136</td>\n",
       "      <td>383583590</td>\n",
       "      <td>1</td>\n",
       "      <td>NaN</td>\n",
       "      <td>5894</td>\n",
       "      <td>2014-12-09 20</td>\n",
       "      <td>2014-12-09</td>\n",
       "      <td>20</td>\n",
       "    </tr>\n",
       "    <tr>\n",
       "      <th>2</th>\n",
       "      <td>98607707</td>\n",
       "      <td>64749712</td>\n",
       "      <td>1</td>\n",
       "      <td>NaN</td>\n",
       "      <td>2883</td>\n",
       "      <td>2014-12-18 11</td>\n",
       "      <td>2014-12-18</td>\n",
       "      <td>11</td>\n",
       "    </tr>\n",
       "    <tr>\n",
       "      <th>3</th>\n",
       "      <td>98662432</td>\n",
       "      <td>320593836</td>\n",
       "      <td>1</td>\n",
       "      <td>96nn52n</td>\n",
       "      <td>6562</td>\n",
       "      <td>2014-12-06 10</td>\n",
       "      <td>2014-12-06</td>\n",
       "      <td>10</td>\n",
       "    </tr>\n",
       "    <tr>\n",
       "      <th>4</th>\n",
       "      <td>98145908</td>\n",
       "      <td>290208520</td>\n",
       "      <td>1</td>\n",
       "      <td>NaN</td>\n",
       "      <td>13926</td>\n",
       "      <td>2014-12-16 21</td>\n",
       "      <td>2014-12-16</td>\n",
       "      <td>21</td>\n",
       "    </tr>\n",
       "  </tbody>\n",
       "</table>\n",
       "</div>"
      ],
      "text/plain": [
       "    user_id    item_id behavior_type user_geohash item_category  \\\n",
       "0  98047837  232431562             1          NaN          4245   \n",
       "1  97726136  383583590             1          NaN          5894   \n",
       "2  98607707   64749712             1          NaN          2883   \n",
       "3  98662432  320593836             1      96nn52n          6562   \n",
       "4  98145908  290208520             1          NaN         13926   \n",
       "\n",
       "            time        date hour  \n",
       "0  2014-12-06 02  2014-12-06   02  \n",
       "1  2014-12-09 20  2014-12-09   20  \n",
       "2  2014-12-18 11  2014-12-18   11  \n",
       "3  2014-12-06 10  2014-12-06   10  \n",
       "4  2014-12-16 21  2014-12-16   21  "
      ]
     },
     "execution_count": 9,
     "metadata": {},
     "output_type": "execute_result"
    }
   ],
   "source": [
    "d_user.head()"
   ]
  },
  {
   "cell_type": "code",
   "execution_count": 10,
   "metadata": {},
   "outputs": [
    {
     "data": {
      "text/plain": [
       "user_id          object\n",
       "item_id          object\n",
       "behavior_type    object\n",
       "user_geohash     object\n",
       "item_category    object\n",
       "time             object\n",
       "date             object\n",
       "hour             object\n",
       "dtype: object"
      ]
     },
     "execution_count": 10,
     "metadata": {},
     "output_type": "execute_result"
    }
   ],
   "source": [
    "d_user.dtypes"
   ]
  },
  {
   "cell_type": "code",
   "execution_count": 11,
   "metadata": {},
   "outputs": [
    {
     "data": {
      "text/plain": [
       "user_id                  object\n",
       "item_id                  object\n",
       "behavior_type            object\n",
       "user_geohash             object\n",
       "item_category            object\n",
       "time             datetime64[ns]\n",
       "date             datetime64[ns]\n",
       "hour                      int64\n",
       "dtype: object"
      ]
     },
     "execution_count": 11,
     "metadata": {},
     "output_type": "execute_result"
    }
   ],
   "source": [
    "d_user[\"date\"] = pd.to_datetime(d_user[\"date\"])\n",
    "d_user[\"time\"] = pd.to_datetime(d_user[\"time\"])\n",
    "d_user[\"hour\"] = d_user[\"hour\"].astype(int)\n",
    "d_user.dtypes"
   ]
  },
  {
   "cell_type": "code",
   "execution_count": 12,
   "metadata": {},
   "outputs": [
    {
     "data": {
      "text/html": [
       "<div>\n",
       "<style scoped>\n",
       "    .dataframe tbody tr th:only-of-type {\n",
       "        vertical-align: middle;\n",
       "    }\n",
       "\n",
       "    .dataframe tbody tr th {\n",
       "        vertical-align: top;\n",
       "    }\n",
       "\n",
       "    .dataframe thead th {\n",
       "        text-align: right;\n",
       "    }\n",
       "</style>\n",
       "<table border=\"1\" class=\"dataframe\">\n",
       "  <thead>\n",
       "    <tr style=\"text-align: right;\">\n",
       "      <th></th>\n",
       "      <th>user_id</th>\n",
       "      <th>item_id</th>\n",
       "      <th>behavior_type</th>\n",
       "      <th>user_geohash</th>\n",
       "      <th>item_category</th>\n",
       "      <th>time</th>\n",
       "      <th>date</th>\n",
       "      <th>hour</th>\n",
       "    </tr>\n",
       "  </thead>\n",
       "  <tbody>\n",
       "    <tr>\n",
       "      <th>0</th>\n",
       "      <td>98047837</td>\n",
       "      <td>232431562</td>\n",
       "      <td>1</td>\n",
       "      <td>NaN</td>\n",
       "      <td>4245</td>\n",
       "      <td>2014-12-06 02:00:00</td>\n",
       "      <td>2014-12-06</td>\n",
       "      <td>2</td>\n",
       "    </tr>\n",
       "    <tr>\n",
       "      <th>1</th>\n",
       "      <td>97726136</td>\n",
       "      <td>383583590</td>\n",
       "      <td>1</td>\n",
       "      <td>NaN</td>\n",
       "      <td>5894</td>\n",
       "      <td>2014-12-09 20:00:00</td>\n",
       "      <td>2014-12-09</td>\n",
       "      <td>20</td>\n",
       "    </tr>\n",
       "    <tr>\n",
       "      <th>2</th>\n",
       "      <td>98607707</td>\n",
       "      <td>64749712</td>\n",
       "      <td>1</td>\n",
       "      <td>NaN</td>\n",
       "      <td>2883</td>\n",
       "      <td>2014-12-18 11:00:00</td>\n",
       "      <td>2014-12-18</td>\n",
       "      <td>11</td>\n",
       "    </tr>\n",
       "    <tr>\n",
       "      <th>3</th>\n",
       "      <td>98662432</td>\n",
       "      <td>320593836</td>\n",
       "      <td>1</td>\n",
       "      <td>96nn52n</td>\n",
       "      <td>6562</td>\n",
       "      <td>2014-12-06 10:00:00</td>\n",
       "      <td>2014-12-06</td>\n",
       "      <td>10</td>\n",
       "    </tr>\n",
       "    <tr>\n",
       "      <th>4</th>\n",
       "      <td>98145908</td>\n",
       "      <td>290208520</td>\n",
       "      <td>1</td>\n",
       "      <td>NaN</td>\n",
       "      <td>13926</td>\n",
       "      <td>2014-12-16 21:00:00</td>\n",
       "      <td>2014-12-16</td>\n",
       "      <td>21</td>\n",
       "    </tr>\n",
       "  </tbody>\n",
       "</table>\n",
       "</div>"
      ],
      "text/plain": [
       "    user_id    item_id behavior_type user_geohash item_category  \\\n",
       "0  98047837  232431562             1          NaN          4245   \n",
       "1  97726136  383583590             1          NaN          5894   \n",
       "2  98607707   64749712             1          NaN          2883   \n",
       "3  98662432  320593836             1      96nn52n          6562   \n",
       "4  98145908  290208520             1          NaN         13926   \n",
       "\n",
       "                 time       date  hour  \n",
       "0 2014-12-06 02:00:00 2014-12-06     2  \n",
       "1 2014-12-09 20:00:00 2014-12-09    20  \n",
       "2 2014-12-18 11:00:00 2014-12-18    11  \n",
       "3 2014-12-06 10:00:00 2014-12-06    10  \n",
       "4 2014-12-16 21:00:00 2014-12-16    21  "
      ]
     },
     "execution_count": 12,
     "metadata": {},
     "output_type": "execute_result"
    }
   ],
   "source": [
    "d_user.head()"
   ]
  },
  {
   "cell_type": "code",
   "execution_count": 13,
   "metadata": {},
   "outputs": [],
   "source": [
    "d_user.sort_values(by=\"time\",ascending=True,inplace=True)"
   ]
  },
  {
   "cell_type": "code",
   "execution_count": 14,
   "metadata": {},
   "outputs": [],
   "source": [
    "d_user.reset_index(drop=True,inplace=True)"
   ]
  },
  {
   "cell_type": "code",
   "execution_count": 15,
   "metadata": {},
   "outputs": [
    {
     "data": {
      "text/html": [
       "<div>\n",
       "<style scoped>\n",
       "    .dataframe tbody tr th:only-of-type {\n",
       "        vertical-align: middle;\n",
       "    }\n",
       "\n",
       "    .dataframe tbody tr th {\n",
       "        vertical-align: top;\n",
       "    }\n",
       "\n",
       "    .dataframe thead th {\n",
       "        text-align: right;\n",
       "    }\n",
       "</style>\n",
       "<table border=\"1\" class=\"dataframe\">\n",
       "  <thead>\n",
       "    <tr style=\"text-align: right;\">\n",
       "      <th></th>\n",
       "      <th>user_id</th>\n",
       "      <th>item_id</th>\n",
       "      <th>behavior_type</th>\n",
       "      <th>user_geohash</th>\n",
       "      <th>item_category</th>\n",
       "      <th>time</th>\n",
       "      <th>date</th>\n",
       "      <th>hour</th>\n",
       "    </tr>\n",
       "  </thead>\n",
       "  <tbody>\n",
       "    <tr>\n",
       "      <th>0</th>\n",
       "      <td>73462715</td>\n",
       "      <td>378485233</td>\n",
       "      <td>1</td>\n",
       "      <td>NaN</td>\n",
       "      <td>9130</td>\n",
       "      <td>2014-11-18</td>\n",
       "      <td>2014-11-18</td>\n",
       "      <td>0</td>\n",
       "    </tr>\n",
       "    <tr>\n",
       "      <th>1</th>\n",
       "      <td>36090137</td>\n",
       "      <td>236748115</td>\n",
       "      <td>1</td>\n",
       "      <td>NaN</td>\n",
       "      <td>10523</td>\n",
       "      <td>2014-11-18</td>\n",
       "      <td>2014-11-18</td>\n",
       "      <td>0</td>\n",
       "    </tr>\n",
       "    <tr>\n",
       "      <th>2</th>\n",
       "      <td>40459733</td>\n",
       "      <td>155218177</td>\n",
       "      <td>1</td>\n",
       "      <td>NaN</td>\n",
       "      <td>8561</td>\n",
       "      <td>2014-11-18</td>\n",
       "      <td>2014-11-18</td>\n",
       "      <td>0</td>\n",
       "    </tr>\n",
       "    <tr>\n",
       "      <th>3</th>\n",
       "      <td>814199</td>\n",
       "      <td>149808524</td>\n",
       "      <td>1</td>\n",
       "      <td>NaN</td>\n",
       "      <td>9053</td>\n",
       "      <td>2014-11-18</td>\n",
       "      <td>2014-11-18</td>\n",
       "      <td>0</td>\n",
       "    </tr>\n",
       "    <tr>\n",
       "      <th>4</th>\n",
       "      <td>113309982</td>\n",
       "      <td>5730861</td>\n",
       "      <td>1</td>\n",
       "      <td>NaN</td>\n",
       "      <td>3783</td>\n",
       "      <td>2014-11-18</td>\n",
       "      <td>2014-11-18</td>\n",
       "      <td>0</td>\n",
       "    </tr>\n",
       "  </tbody>\n",
       "</table>\n",
       "</div>"
      ],
      "text/plain": [
       "     user_id    item_id behavior_type user_geohash item_category       time  \\\n",
       "0   73462715  378485233             1          NaN          9130 2014-11-18   \n",
       "1   36090137  236748115             1          NaN         10523 2014-11-18   \n",
       "2   40459733  155218177             1          NaN          8561 2014-11-18   \n",
       "3     814199  149808524             1          NaN          9053 2014-11-18   \n",
       "4  113309982    5730861             1          NaN          3783 2014-11-18   \n",
       "\n",
       "        date  hour  \n",
       "0 2014-11-18     0  \n",
       "1 2014-11-18     0  \n",
       "2 2014-11-18     0  \n",
       "3 2014-11-18     0  \n",
       "4 2014-11-18     0  "
      ]
     },
     "execution_count": 15,
     "metadata": {},
     "output_type": "execute_result"
    }
   ],
   "source": [
    "d_user.head()"
   ]
  },
  {
   "cell_type": "code",
   "execution_count": 16,
   "metadata": {},
   "outputs": [
    {
     "data": {
      "text/html": [
       "<div>\n",
       "<style scoped>\n",
       "    .dataframe tbody tr th:only-of-type {\n",
       "        vertical-align: middle;\n",
       "    }\n",
       "\n",
       "    .dataframe tbody tr th {\n",
       "        vertical-align: top;\n",
       "    }\n",
       "\n",
       "    .dataframe thead th {\n",
       "        text-align: right;\n",
       "    }\n",
       "</style>\n",
       "<table border=\"1\" class=\"dataframe\">\n",
       "  <thead>\n",
       "    <tr style=\"text-align: right;\">\n",
       "      <th></th>\n",
       "      <th>user_id</th>\n",
       "      <th>item_id</th>\n",
       "      <th>behavior_type</th>\n",
       "      <th>user_geohash</th>\n",
       "      <th>item_category</th>\n",
       "      <th>time</th>\n",
       "      <th>date</th>\n",
       "      <th>hour</th>\n",
       "    </tr>\n",
       "  </thead>\n",
       "  <tbody>\n",
       "    <tr>\n",
       "      <th>count</th>\n",
       "      <td>12256906</td>\n",
       "      <td>12256906</td>\n",
       "      <td>12256906</td>\n",
       "      <td>3922082</td>\n",
       "      <td>12256906</td>\n",
       "      <td>12256906</td>\n",
       "      <td>12256906</td>\n",
       "      <td>1.225691e+07</td>\n",
       "    </tr>\n",
       "    <tr>\n",
       "      <th>unique</th>\n",
       "      <td>10000</td>\n",
       "      <td>2876947</td>\n",
       "      <td>4</td>\n",
       "      <td>575458</td>\n",
       "      <td>8916</td>\n",
       "      <td>744</td>\n",
       "      <td>31</td>\n",
       "      <td>NaN</td>\n",
       "    </tr>\n",
       "    <tr>\n",
       "      <th>top</th>\n",
       "      <td>36233277</td>\n",
       "      <td>112921337</td>\n",
       "      <td>1</td>\n",
       "      <td>94ek6ke</td>\n",
       "      <td>1863</td>\n",
       "      <td>2014-12-11 22:00:00</td>\n",
       "      <td>2014-12-12 00:00:00</td>\n",
       "      <td>NaN</td>\n",
       "    </tr>\n",
       "    <tr>\n",
       "      <th>freq</th>\n",
       "      <td>31030</td>\n",
       "      <td>1445</td>\n",
       "      <td>11550581</td>\n",
       "      <td>1052</td>\n",
       "      <td>393247</td>\n",
       "      <td>54797</td>\n",
       "      <td>691712</td>\n",
       "      <td>NaN</td>\n",
       "    </tr>\n",
       "    <tr>\n",
       "      <th>first</th>\n",
       "      <td>NaN</td>\n",
       "      <td>NaN</td>\n",
       "      <td>NaN</td>\n",
       "      <td>NaN</td>\n",
       "      <td>NaN</td>\n",
       "      <td>2014-11-18 00:00:00</td>\n",
       "      <td>2014-11-18 00:00:00</td>\n",
       "      <td>NaN</td>\n",
       "    </tr>\n",
       "    <tr>\n",
       "      <th>last</th>\n",
       "      <td>NaN</td>\n",
       "      <td>NaN</td>\n",
       "      <td>NaN</td>\n",
       "      <td>NaN</td>\n",
       "      <td>NaN</td>\n",
       "      <td>2014-12-18 23:00:00</td>\n",
       "      <td>2014-12-18 00:00:00</td>\n",
       "      <td>NaN</td>\n",
       "    </tr>\n",
       "    <tr>\n",
       "      <th>mean</th>\n",
       "      <td>NaN</td>\n",
       "      <td>NaN</td>\n",
       "      <td>NaN</td>\n",
       "      <td>NaN</td>\n",
       "      <td>NaN</td>\n",
       "      <td>NaN</td>\n",
       "      <td>NaN</td>\n",
       "      <td>1.481799e+01</td>\n",
       "    </tr>\n",
       "    <tr>\n",
       "      <th>std</th>\n",
       "      <td>NaN</td>\n",
       "      <td>NaN</td>\n",
       "      <td>NaN</td>\n",
       "      <td>NaN</td>\n",
       "      <td>NaN</td>\n",
       "      <td>NaN</td>\n",
       "      <td>NaN</td>\n",
       "      <td>6.474778e+00</td>\n",
       "    </tr>\n",
       "    <tr>\n",
       "      <th>min</th>\n",
       "      <td>NaN</td>\n",
       "      <td>NaN</td>\n",
       "      <td>NaN</td>\n",
       "      <td>NaN</td>\n",
       "      <td>NaN</td>\n",
       "      <td>NaN</td>\n",
       "      <td>NaN</td>\n",
       "      <td>0.000000e+00</td>\n",
       "    </tr>\n",
       "    <tr>\n",
       "      <th>25%</th>\n",
       "      <td>NaN</td>\n",
       "      <td>NaN</td>\n",
       "      <td>NaN</td>\n",
       "      <td>NaN</td>\n",
       "      <td>NaN</td>\n",
       "      <td>NaN</td>\n",
       "      <td>NaN</td>\n",
       "      <td>1.000000e+01</td>\n",
       "    </tr>\n",
       "    <tr>\n",
       "      <th>50%</th>\n",
       "      <td>NaN</td>\n",
       "      <td>NaN</td>\n",
       "      <td>NaN</td>\n",
       "      <td>NaN</td>\n",
       "      <td>NaN</td>\n",
       "      <td>NaN</td>\n",
       "      <td>NaN</td>\n",
       "      <td>1.600000e+01</td>\n",
       "    </tr>\n",
       "    <tr>\n",
       "      <th>75%</th>\n",
       "      <td>NaN</td>\n",
       "      <td>NaN</td>\n",
       "      <td>NaN</td>\n",
       "      <td>NaN</td>\n",
       "      <td>NaN</td>\n",
       "      <td>NaN</td>\n",
       "      <td>NaN</td>\n",
       "      <td>2.000000e+01</td>\n",
       "    </tr>\n",
       "    <tr>\n",
       "      <th>max</th>\n",
       "      <td>NaN</td>\n",
       "      <td>NaN</td>\n",
       "      <td>NaN</td>\n",
       "      <td>NaN</td>\n",
       "      <td>NaN</td>\n",
       "      <td>NaN</td>\n",
       "      <td>NaN</td>\n",
       "      <td>2.300000e+01</td>\n",
       "    </tr>\n",
       "  </tbody>\n",
       "</table>\n",
       "</div>"
      ],
      "text/plain": [
       "         user_id    item_id behavior_type user_geohash item_category  \\\n",
       "count   12256906   12256906      12256906      3922082      12256906   \n",
       "unique     10000    2876947             4       575458          8916   \n",
       "top     36233277  112921337             1      94ek6ke          1863   \n",
       "freq       31030       1445      11550581         1052        393247   \n",
       "first        NaN        NaN           NaN          NaN           NaN   \n",
       "last         NaN        NaN           NaN          NaN           NaN   \n",
       "mean         NaN        NaN           NaN          NaN           NaN   \n",
       "std          NaN        NaN           NaN          NaN           NaN   \n",
       "min          NaN        NaN           NaN          NaN           NaN   \n",
       "25%          NaN        NaN           NaN          NaN           NaN   \n",
       "50%          NaN        NaN           NaN          NaN           NaN   \n",
       "75%          NaN        NaN           NaN          NaN           NaN   \n",
       "max          NaN        NaN           NaN          NaN           NaN   \n",
       "\n",
       "                       time                 date          hour  \n",
       "count              12256906             12256906  1.225691e+07  \n",
       "unique                  744                   31           NaN  \n",
       "top     2014-12-11 22:00:00  2014-12-12 00:00:00           NaN  \n",
       "freq                  54797               691712           NaN  \n",
       "first   2014-11-18 00:00:00  2014-11-18 00:00:00           NaN  \n",
       "last    2014-12-18 23:00:00  2014-12-18 00:00:00           NaN  \n",
       "mean                    NaN                  NaN  1.481799e+01  \n",
       "std                     NaN                  NaN  6.474778e+00  \n",
       "min                     NaN                  NaN  0.000000e+00  \n",
       "25%                     NaN                  NaN  1.000000e+01  \n",
       "50%                     NaN                  NaN  1.600000e+01  \n",
       "75%                     NaN                  NaN  2.000000e+01  \n",
       "max                     NaN                  NaN  2.300000e+01  "
      ]
     },
     "execution_count": 16,
     "metadata": {},
     "output_type": "execute_result"
    }
   ],
   "source": [
    "d_user.describe(include=\"all\")"
   ]
  },
  {
   "cell_type": "markdown",
   "metadata": {},
   "source": [
    "### 4.数据分析or构建模型"
   ]
  },
  {
   "cell_type": "markdown",
   "metadata": {},
   "source": [
    "#### 4.1 用户日访问量的分析"
   ]
  },
  {
   "cell_type": "code",
   "execution_count": 17,
   "metadata": {},
   "outputs": [
    {
     "data": {
      "text/plain": [
       "pandas.core.frame.DataFrame"
      ]
     },
     "execution_count": 17,
     "metadata": {},
     "output_type": "execute_result"
    }
   ],
   "source": [
    "pv_daily = d_user.groupby(\"date\").count()[[\"user_id\"]].rename(columns={\"user_id\":\"pv\"})\n",
    "type(pv_daily)"
   ]
  },
  {
   "cell_type": "code",
   "execution_count": 18,
   "metadata": {},
   "outputs": [
    {
     "data": {
      "text/html": [
       "<div>\n",
       "<style scoped>\n",
       "    .dataframe tbody tr th:only-of-type {\n",
       "        vertical-align: middle;\n",
       "    }\n",
       "\n",
       "    .dataframe tbody tr th {\n",
       "        vertical-align: top;\n",
       "    }\n",
       "\n",
       "    .dataframe thead th {\n",
       "        text-align: right;\n",
       "    }\n",
       "</style>\n",
       "<table border=\"1\" class=\"dataframe\">\n",
       "  <thead>\n",
       "    <tr style=\"text-align: right;\">\n",
       "      <th></th>\n",
       "      <th>pv</th>\n",
       "    </tr>\n",
       "    <tr>\n",
       "      <th>date</th>\n",
       "      <th></th>\n",
       "    </tr>\n",
       "  </thead>\n",
       "  <tbody>\n",
       "    <tr>\n",
       "      <th>2014-11-18</th>\n",
       "      <td>366701</td>\n",
       "    </tr>\n",
       "    <tr>\n",
       "      <th>2014-11-19</th>\n",
       "      <td>358823</td>\n",
       "    </tr>\n",
       "    <tr>\n",
       "      <th>2014-11-20</th>\n",
       "      <td>353429</td>\n",
       "    </tr>\n",
       "    <tr>\n",
       "      <th>2014-11-21</th>\n",
       "      <td>333104</td>\n",
       "    </tr>\n",
       "    <tr>\n",
       "      <th>2014-11-22</th>\n",
       "      <td>361355</td>\n",
       "    </tr>\n",
       "  </tbody>\n",
       "</table>\n",
       "</div>"
      ],
      "text/plain": [
       "                pv\n",
       "date              \n",
       "2014-11-18  366701\n",
       "2014-11-19  358823\n",
       "2014-11-20  353429\n",
       "2014-11-21  333104\n",
       "2014-11-22  361355"
      ]
     },
     "execution_count": 18,
     "metadata": {},
     "output_type": "execute_result"
    }
   ],
   "source": [
    "pv_daily.head()"
   ]
  },
  {
   "cell_type": "code",
   "execution_count": 19,
   "metadata": {},
   "outputs": [],
   "source": [
    "uv_daily = d_user.groupby(\"date\")[[\"user_id\"]].apply(lambda x:x.drop_duplicates().count())"
   ]
  },
  {
   "cell_type": "code",
   "execution_count": 20,
   "metadata": {},
   "outputs": [
    {
     "data": {
      "text/html": [
       "<div>\n",
       "<style scoped>\n",
       "    .dataframe tbody tr th:only-of-type {\n",
       "        vertical-align: middle;\n",
       "    }\n",
       "\n",
       "    .dataframe tbody tr th {\n",
       "        vertical-align: top;\n",
       "    }\n",
       "\n",
       "    .dataframe thead th {\n",
       "        text-align: right;\n",
       "    }\n",
       "</style>\n",
       "<table border=\"1\" class=\"dataframe\">\n",
       "  <thead>\n",
       "    <tr style=\"text-align: right;\">\n",
       "      <th></th>\n",
       "      <th>uv</th>\n",
       "    </tr>\n",
       "    <tr>\n",
       "      <th>date</th>\n",
       "      <th></th>\n",
       "    </tr>\n",
       "  </thead>\n",
       "  <tbody>\n",
       "    <tr>\n",
       "      <th>2014-11-18</th>\n",
       "      <td>6343</td>\n",
       "    </tr>\n",
       "    <tr>\n",
       "      <th>2014-11-19</th>\n",
       "      <td>6420</td>\n",
       "    </tr>\n",
       "    <tr>\n",
       "      <th>2014-11-20</th>\n",
       "      <td>6333</td>\n",
       "    </tr>\n",
       "    <tr>\n",
       "      <th>2014-11-21</th>\n",
       "      <td>6276</td>\n",
       "    </tr>\n",
       "    <tr>\n",
       "      <th>2014-11-22</th>\n",
       "      <td>6187</td>\n",
       "    </tr>\n",
       "  </tbody>\n",
       "</table>\n",
       "</div>"
      ],
      "text/plain": [
       "              uv\n",
       "date            \n",
       "2014-11-18  6343\n",
       "2014-11-19  6420\n",
       "2014-11-20  6333\n",
       "2014-11-21  6276\n",
       "2014-11-22  6187"
      ]
     },
     "execution_count": 20,
     "metadata": {},
     "output_type": "execute_result"
    }
   ],
   "source": [
    "uv_daily.rename(columns={\"user_id\":\"uv\"},inplace=True)\n",
    "uv_daily.head()"
   ]
  },
  {
   "cell_type": "code",
   "execution_count": 21,
   "metadata": {},
   "outputs": [],
   "source": [
    "pv_uv_daily = pd.concat([pv_daily,uv_daily], axis=1)"
   ]
  },
  {
   "cell_type": "code",
   "execution_count": 22,
   "metadata": {},
   "outputs": [
    {
     "data": {
      "text/html": [
       "<div>\n",
       "<style scoped>\n",
       "    .dataframe tbody tr th:only-of-type {\n",
       "        vertical-align: middle;\n",
       "    }\n",
       "\n",
       "    .dataframe tbody tr th {\n",
       "        vertical-align: top;\n",
       "    }\n",
       "\n",
       "    .dataframe thead th {\n",
       "        text-align: right;\n",
       "    }\n",
       "</style>\n",
       "<table border=\"1\" class=\"dataframe\">\n",
       "  <thead>\n",
       "    <tr style=\"text-align: right;\">\n",
       "      <th></th>\n",
       "      <th>pv</th>\n",
       "      <th>uv</th>\n",
       "    </tr>\n",
       "    <tr>\n",
       "      <th>date</th>\n",
       "      <th></th>\n",
       "      <th></th>\n",
       "    </tr>\n",
       "  </thead>\n",
       "  <tbody>\n",
       "    <tr>\n",
       "      <th>2014-11-18</th>\n",
       "      <td>366701</td>\n",
       "      <td>6343</td>\n",
       "    </tr>\n",
       "    <tr>\n",
       "      <th>2014-11-19</th>\n",
       "      <td>358823</td>\n",
       "      <td>6420</td>\n",
       "    </tr>\n",
       "    <tr>\n",
       "      <th>2014-11-20</th>\n",
       "      <td>353429</td>\n",
       "      <td>6333</td>\n",
       "    </tr>\n",
       "    <tr>\n",
       "      <th>2014-11-21</th>\n",
       "      <td>333104</td>\n",
       "      <td>6276</td>\n",
       "    </tr>\n",
       "    <tr>\n",
       "      <th>2014-11-22</th>\n",
       "      <td>361355</td>\n",
       "      <td>6187</td>\n",
       "    </tr>\n",
       "  </tbody>\n",
       "</table>\n",
       "</div>"
      ],
      "text/plain": [
       "                pv    uv\n",
       "date                    \n",
       "2014-11-18  366701  6343\n",
       "2014-11-19  358823  6420\n",
       "2014-11-20  353429  6333\n",
       "2014-11-21  333104  6276\n",
       "2014-11-22  361355  6187"
      ]
     },
     "execution_count": 22,
     "metadata": {},
     "output_type": "execute_result"
    }
   ],
   "source": [
    "pv_uv_daily.head()"
   ]
  },
  {
   "cell_type": "code",
   "execution_count": 23,
   "metadata": {},
   "outputs": [
    {
     "data": {
      "text/html": [
       "<div>\n",
       "<style scoped>\n",
       "    .dataframe tbody tr th:only-of-type {\n",
       "        vertical-align: middle;\n",
       "    }\n",
       "\n",
       "    .dataframe tbody tr th {\n",
       "        vertical-align: top;\n",
       "    }\n",
       "\n",
       "    .dataframe thead th {\n",
       "        text-align: right;\n",
       "    }\n",
       "</style>\n",
       "<table border=\"1\" class=\"dataframe\">\n",
       "  <thead>\n",
       "    <tr style=\"text-align: right;\">\n",
       "      <th></th>\n",
       "      <th>pv</th>\n",
       "      <th>uv</th>\n",
       "    </tr>\n",
       "  </thead>\n",
       "  <tbody>\n",
       "    <tr>\n",
       "      <th>pv</th>\n",
       "      <td>1.000000</td>\n",
       "      <td>0.920602</td>\n",
       "    </tr>\n",
       "    <tr>\n",
       "      <th>uv</th>\n",
       "      <td>0.920602</td>\n",
       "      <td>1.000000</td>\n",
       "    </tr>\n",
       "  </tbody>\n",
       "</table>\n",
       "</div>"
      ],
      "text/plain": [
       "          pv        uv\n",
       "pv  1.000000  0.920602\n",
       "uv  0.920602  1.000000"
      ]
     },
     "execution_count": 23,
     "metadata": {},
     "output_type": "execute_result"
    }
   ],
   "source": [
    "pv_uv_daily.corr(method=\"pearson\") # method=\"spearman\""
   ]
  },
  {
   "cell_type": "code",
   "execution_count": 24,
   "metadata": {},
   "outputs": [
    {
     "data": {
      "text/plain": [
       "Text(0.5, 0.98, 'UV和PV变化趋势')"
      ]
     },
     "execution_count": 24,
     "metadata": {},
     "output_type": "execute_result"
    },
    {
     "data": {
      "image/png": "[encoded data removed]",
      "text/plain": [
       "<Figure size 1152x648 with 2 Axes>"
      ]
     },
     "metadata": {},
     "output_type": "display_data"
    }
   ],
   "source": [
    "plt.figure(figsize=(16,9))\n",
    "plt.subplot(211)\n",
    "plt.plot(pv_daily,color=\"red\")\n",
    "plt.xticks(rotation=30)\n",
    "plt.title(\"每天访问量\")\n",
    "plt.subplot(212)\n",
    "plt.plot(pv_daily,color=\"green\")\n",
    "plt.xticks(rotation=30)\n",
    "plt.title(\"每天访问用户数\")\n",
    "plt.suptitle(\"UV和PV变化趋势\")"
   ]
  },
  {
   "cell_type": "code",
   "execution_count": 25,
   "metadata": {},
   "outputs": [],
   "source": [
    "pv_hour = d_user.groupby(\"hour\").count()[[\"user_id\"]].rename(columns={\"user_id\":\"pv\"})\n",
    "uv_hour = d_user.groupby(\"hour\")[[\"user_id\"]].apply(lambda x:x.drop_duplicates().count())\n",
    "uv_hour.rename(columns={\"user_id\":\"uv\"},inplace=True)\n",
    "pv_uv_hour = pd.concat([pv_hour,uv_hour], axis=1)"
   ]
  },
  {
   "cell_type": "code",
   "execution_count": 26,
   "metadata": {},
   "outputs": [
    {
     "data": {
      "text/html": [
       "<div>\n",
       "<style scoped>\n",
       "    .dataframe tbody tr th:only-of-type {\n",
       "        vertical-align: middle;\n",
       "    }\n",
       "\n",
       "    .dataframe tbody tr th {\n",
       "        vertical-align: top;\n",
       "    }\n",
       "\n",
       "    .dataframe thead th {\n",
       "        text-align: right;\n",
       "    }\n",
       "</style>\n",
       "<table border=\"1\" class=\"dataframe\">\n",
       "  <thead>\n",
       "    <tr style=\"text-align: right;\">\n",
       "      <th></th>\n",
       "      <th>pv</th>\n",
       "      <th>uv</th>\n",
       "    </tr>\n",
       "  </thead>\n",
       "  <tbody>\n",
       "    <tr>\n",
       "      <th>pv</th>\n",
       "      <td>1.000000</td>\n",
       "      <td>0.835305</td>\n",
       "    </tr>\n",
       "    <tr>\n",
       "      <th>uv</th>\n",
       "      <td>0.835305</td>\n",
       "      <td>1.000000</td>\n",
       "    </tr>\n",
       "  </tbody>\n",
       "</table>\n",
       "</div>"
      ],
      "text/plain": [
       "          pv        uv\n",
       "pv  1.000000  0.835305\n",
       "uv  0.835305  1.000000"
      ]
     },
     "execution_count": 26,
     "metadata": {},
     "output_type": "execute_result"
    }
   ],
   "source": [
    "pv_uv_hour.corr(method=\"pearson\") "
   ]
  },
  {
   "cell_type": "markdown",
   "metadata": {},
   "source": [
    ">通过观察uv和pv的变化趋势，发现pv和uv成正相关，在双12期间，pv和uv达到峰值，且pv和uv的数值访问量差距比较大，说明一个用户每天可能会访问上百次。"
   ]
  },
  {
   "cell_type": "markdown",
   "metadata": {},
   "source": [
    "#### 4.2 用户小时访问量的分析"
   ]
  },
  {
   "cell_type": "code",
   "execution_count": 27,
   "metadata": {},
   "outputs": [
    {
     "data": {
      "image/png": "[encoded data removed]",
      "text/plain": [
       "<Figure size 1152x648 with 2 Axes>"
      ]
     },
     "metadata": {},
     "output_type": "display_data"
    }
   ],
   "source": [
    "plt.figure(figsize=(16,9))\n",
    "\n",
    "pv_uv_hour[\"pv\"].plot(color=\"steelblue\",label=\"每小时访问量\")\n",
    "plt.ylabel(\"访问量\")\n",
    "plt.legend(loc=\"upper right\")\n",
    "pv_uv_hour[\"uv\"].plot(color=\"red\",label=\"每小时不同用户访问量\",secondary_y=True)\n",
    "plt.ylabel(\"访问用户数\")\n",
    "plt.xticks(range(0,24),pv_uv_hour.index)\n",
    "\n",
    "plt.legend(loc=\"upper center\")\n",
    "plt.grid(True)\n",
    "plt.show()"
   ]
  },
  {
   "cell_type": "markdown",
   "metadata": {},
   "source": [
    "通过分析小时访问量可知：\n",
    "> pv和uv在凌晨0~5点之前，情况相同，均呈下降趋势，访问量也较小；\n",
    "\n",
    "> 在晚上18点以后，pv的波动比较剧烈，可能是在该时间段，用户数量基本固定，用户在该时间段访问次数增加。\n"
   ]
  },
  {
   "cell_type": "markdown",
   "metadata": {},
   "source": [
    "#### 4.3 不同用户不同的行为分析"
   ]
  },
  {
   "cell_type": "code",
   "execution_count": 28,
   "metadata": {},
   "outputs": [],
   "source": [
    "pv_detail = pd.pivot_table(columns=\"behavior_type\", index=\"hour\",data=d_user,\n",
    "                           values=\"user_id\",aggfunc=np.size)"
   ]
  },
  {
   "cell_type": "code",
   "execution_count": 29,
   "metadata": {},
   "outputs": [
    {
     "data": {
      "text/html": [
       "<div>\n",
       "<style scoped>\n",
       "    .dataframe tbody tr th:only-of-type {\n",
       "        vertical-align: middle;\n",
       "    }\n",
       "\n",
       "    .dataframe tbody tr th {\n",
       "        vertical-align: top;\n",
       "    }\n",
       "\n",
       "    .dataframe thead th {\n",
       "        text-align: right;\n",
       "    }\n",
       "</style>\n",
       "<table border=\"1\" class=\"dataframe\">\n",
       "  <thead>\n",
       "    <tr style=\"text-align: right;\">\n",
       "      <th>behavior_type</th>\n",
       "      <th>1</th>\n",
       "      <th>2</th>\n",
       "      <th>3</th>\n",
       "      <th>4</th>\n",
       "    </tr>\n",
       "    <tr>\n",
       "      <th>hour</th>\n",
       "      <th></th>\n",
       "      <th></th>\n",
       "      <th></th>\n",
       "      <th></th>\n",
       "    </tr>\n",
       "  </thead>\n",
       "  <tbody>\n",
       "    <tr>\n",
       "      <th>0</th>\n",
       "      <td>487341</td>\n",
       "      <td>11062</td>\n",
       "      <td>14156</td>\n",
       "      <td>4845</td>\n",
       "    </tr>\n",
       "    <tr>\n",
       "      <th>1</th>\n",
       "      <td>252991</td>\n",
       "      <td>6276</td>\n",
       "      <td>6712</td>\n",
       "      <td>1703</td>\n",
       "    </tr>\n",
       "    <tr>\n",
       "      <th>2</th>\n",
       "      <td>139139</td>\n",
       "      <td>3311</td>\n",
       "      <td>3834</td>\n",
       "      <td>806</td>\n",
       "    </tr>\n",
       "    <tr>\n",
       "      <th>3</th>\n",
       "      <td>93250</td>\n",
       "      <td>2282</td>\n",
       "      <td>2480</td>\n",
       "      <td>504</td>\n",
       "    </tr>\n",
       "    <tr>\n",
       "      <th>4</th>\n",
       "      <td>75832</td>\n",
       "      <td>2010</td>\n",
       "      <td>2248</td>\n",
       "      <td>397</td>\n",
       "    </tr>\n",
       "    <tr>\n",
       "      <th>5</th>\n",
       "      <td>83545</td>\n",
       "      <td>2062</td>\n",
       "      <td>2213</td>\n",
       "      <td>476</td>\n",
       "    </tr>\n",
       "    <tr>\n",
       "      <th>6</th>\n",
       "      <td>150356</td>\n",
       "      <td>3651</td>\n",
       "      <td>3768</td>\n",
       "      <td>1023</td>\n",
       "    </tr>\n",
       "    <tr>\n",
       "      <th>7</th>\n",
       "      <td>272470</td>\n",
       "      <td>5885</td>\n",
       "      <td>7044</td>\n",
       "      <td>1938</td>\n",
       "    </tr>\n",
       "    <tr>\n",
       "      <th>8</th>\n",
       "      <td>374701</td>\n",
       "      <td>7849</td>\n",
       "      <td>9970</td>\n",
       "      <td>3586</td>\n",
       "    </tr>\n",
       "    <tr>\n",
       "      <th>9</th>\n",
       "      <td>456781</td>\n",
       "      <td>10507</td>\n",
       "      <td>12956</td>\n",
       "      <td>5707</td>\n",
       "    </tr>\n",
       "    <tr>\n",
       "      <th>10</th>\n",
       "      <td>515960</td>\n",
       "      <td>11185</td>\n",
       "      <td>16203</td>\n",
       "      <td>7317</td>\n",
       "    </tr>\n",
       "    <tr>\n",
       "      <th>11</th>\n",
       "      <td>493679</td>\n",
       "      <td>10918</td>\n",
       "      <td>15257</td>\n",
       "      <td>7086</td>\n",
       "    </tr>\n",
       "    <tr>\n",
       "      <th>12</th>\n",
       "      <td>500036</td>\n",
       "      <td>9940</td>\n",
       "      <td>15025</td>\n",
       "      <td>6956</td>\n",
       "    </tr>\n",
       "    <tr>\n",
       "      <th>13</th>\n",
       "      <td>561513</td>\n",
       "      <td>11694</td>\n",
       "      <td>17419</td>\n",
       "      <td>7717</td>\n",
       "    </tr>\n",
       "    <tr>\n",
       "      <th>14</th>\n",
       "      <td>558246</td>\n",
       "      <td>11695</td>\n",
       "      <td>17067</td>\n",
       "      <td>7207</td>\n",
       "    </tr>\n",
       "    <tr>\n",
       "      <th>15</th>\n",
       "      <td>562238</td>\n",
       "      <td>12010</td>\n",
       "      <td>17289</td>\n",
       "      <td>7312</td>\n",
       "    </tr>\n",
       "    <tr>\n",
       "      <th>16</th>\n",
       "      <td>541846</td>\n",
       "      <td>11127</td>\n",
       "      <td>16304</td>\n",
       "      <td>6930</td>\n",
       "    </tr>\n",
       "    <tr>\n",
       "      <th>17</th>\n",
       "      <td>476369</td>\n",
       "      <td>9754</td>\n",
       "      <td>14515</td>\n",
       "      <td>5298</td>\n",
       "    </tr>\n",
       "    <tr>\n",
       "      <th>18</th>\n",
       "      <td>517078</td>\n",
       "      <td>10342</td>\n",
       "      <td>14823</td>\n",
       "      <td>5140</td>\n",
       "    </tr>\n",
       "    <tr>\n",
       "      <th>19</th>\n",
       "      <td>696035</td>\n",
       "      <td>13952</td>\n",
       "      <td>18853</td>\n",
       "      <td>6352</td>\n",
       "    </tr>\n",
       "    <tr>\n",
       "      <th>20</th>\n",
       "      <td>885669</td>\n",
       "      <td>16599</td>\n",
       "      <td>25021</td>\n",
       "      <td>7872</td>\n",
       "    </tr>\n",
       "    <tr>\n",
       "      <th>21</th>\n",
       "      <td>1030483</td>\n",
       "      <td>20397</td>\n",
       "      <td>30469</td>\n",
       "      <td>8829</td>\n",
       "    </tr>\n",
       "    <tr>\n",
       "      <th>22</th>\n",
       "      <td>1027269</td>\n",
       "      <td>20343</td>\n",
       "      <td>32504</td>\n",
       "      <td>8845</td>\n",
       "    </tr>\n",
       "    <tr>\n",
       "      <th>23</th>\n",
       "      <td>797754</td>\n",
       "      <td>17705</td>\n",
       "      <td>27434</td>\n",
       "      <td>6359</td>\n",
       "    </tr>\n",
       "  </tbody>\n",
       "</table>\n",
       "</div>"
      ],
      "text/plain": [
       "behavior_type        1      2      3     4\n",
       "hour                                      \n",
       "0               487341  11062  14156  4845\n",
       "1               252991   6276   6712  1703\n",
       "2               139139   3311   3834   806\n",
       "3                93250   2282   2480   504\n",
       "4                75832   2010   2248   397\n",
       "5                83545   2062   2213   476\n",
       "6               150356   3651   3768  1023\n",
       "7               272470   5885   7044  1938\n",
       "8               374701   7849   9970  3586\n",
       "9               456781  10507  12956  5707\n",
       "10              515960  11185  16203  7317\n",
       "11              493679  10918  15257  7086\n",
       "12              500036   9940  15025  6956\n",
       "13              561513  11694  17419  7717\n",
       "14              558246  11695  17067  7207\n",
       "15              562238  12010  17289  7312\n",
       "16              541846  11127  16304  6930\n",
       "17              476369   9754  14515  5298\n",
       "18              517078  10342  14823  5140\n",
       "19              696035  13952  18853  6352\n",
       "20              885669  16599  25021  7872\n",
       "21             1030483  20397  30469  8829\n",
       "22             1027269  20343  32504  8845\n",
       "23              797754  17705  27434  6359"
      ]
     },
     "execution_count": 29,
     "metadata": {},
     "output_type": "execute_result"
    }
   ],
   "source": [
    "pv_detail \n",
    "# 不同行为每小时的访问量1：点击，2：收藏，3：加购物车，4：支付"
   ]
  },
  {
   "cell_type": "code",
   "execution_count": 30,
   "metadata": {},
   "outputs": [
    {
     "data": {
      "image/png": "[encoded data removed]",
      "text/plain": [
       "<Figure size 1152x648 with 1 Axes>"
      ]
     },
     "metadata": {},
     "output_type": "display_data"
    }
   ],
   "source": [
    "plt.figure(figsize=(16,9))\n",
    "sns.lineplot(data=pv_detail.iloc[:,1:]) # 由于行为1数值较大，故剔除\n",
    "plt.show()"
   ]
  },
  {
   "cell_type": "markdown",
   "metadata": {},
   "source": [
    "\n",
    "发现：\n",
    "> 相对其他三类行为,点击行为的用户量是最多的;\n",
    "\n",
    "> 在其他三类行为中，该购物车行为最多，收藏其次，购买数量最少；\n",
    "\n",
    "> 因此，在后续的漏洞分析中，行为3的分析顺序优先于行为2。"
   ]
  },
  {
   "cell_type": "markdown",
   "metadata": {},
   "source": [
    "#### 4.4 用户购买次数情况分析"
   ]
  },
  {
   "cell_type": "code",
   "execution_count": 31,
   "metadata": {},
   "outputs": [],
   "source": [
    "# 购买用户的访问量\n",
    "d_user_buy = d_user[d_user.behavior_type==\"4\"].groupby(\"user_id\").size()"
   ]
  },
  {
   "cell_type": "code",
   "execution_count": 32,
   "metadata": {},
   "outputs": [
    {
     "data": {
      "text/plain": [
       "user_id\n",
       "100001878    36\n",
       "100011562     3\n",
       "100012968    15\n",
       "100014060    24\n",
       "100024529    26\n",
       "             ..\n",
       "99960313      8\n",
       "9996155       6\n",
       "99963140     19\n",
       "99968428     38\n",
       "99989881     17\n",
       "Length: 8886, dtype: int64"
      ]
     },
     "execution_count": 32,
     "metadata": {},
     "output_type": "execute_result"
    }
   ],
   "source": [
    "d_user_buy"
   ]
  },
  {
   "cell_type": "code",
   "execution_count": 33,
   "metadata": {},
   "outputs": [
    {
     "data": {
      "text/plain": [
       "count    8886.000000\n",
       "mean       13.527459\n",
       "std        19.698786\n",
       "min         1.000000\n",
       "25%         4.000000\n",
       "50%         8.000000\n",
       "75%        17.000000\n",
       "max       809.000000\n",
       "dtype: float64"
      ]
     },
     "execution_count": 33,
     "metadata": {},
     "output_type": "execute_result"
    }
   ],
   "source": [
    "d_user_buy.describe()"
   ]
  },
  {
   "cell_type": "code",
   "execution_count": 34,
   "metadata": {},
   "outputs": [
    {
     "data": {
      "image/png": "[encoded data removed]",
      "text/plain": [
       "<Figure size 432x288 with 1 Axes>"
      ]
     },
     "metadata": {},
     "output_type": "display_data"
    }
   ],
   "source": [
    "plt.hist(x=d_user_buy, bins=30)\n",
    "plt.show()"
   ]
  },
  {
   "cell_type": "markdown",
   "metadata": {},
   "source": [
    "#### 4.4.1日ARPPU "
   ]
  },
  {
   "cell_type": "code",
   "execution_count": 35,
   "metadata": {},
   "outputs": [],
   "source": [
    "# 日ARPPU =总收入/活跃用户付费数量\n",
    "# 人均消费次数\n",
    "\n",
    "d_user_buy1 = d_user[d_user.behavior_type==\"4\"].groupby([\"date\",\"user_id\"]).count()[\"behavior_type\"].reset_index().rename(columns={\"behavior_type\":\"total\"})\n"
   ]
  },
  {
   "cell_type": "code",
   "execution_count": 36,
   "metadata": {},
   "outputs": [
    {
     "data": {
      "text/html": [
       "<div>\n",
       "<style scoped>\n",
       "    .dataframe tbody tr th:only-of-type {\n",
       "        vertical-align: middle;\n",
       "    }\n",
       "\n",
       "    .dataframe tbody tr th {\n",
       "        vertical-align: top;\n",
       "    }\n",
       "\n",
       "    .dataframe thead th {\n",
       "        text-align: right;\n",
       "    }\n",
       "</style>\n",
       "<table border=\"1\" class=\"dataframe\">\n",
       "  <thead>\n",
       "    <tr style=\"text-align: right;\">\n",
       "      <th></th>\n",
       "      <th>date</th>\n",
       "      <th>user_id</th>\n",
       "      <th>total</th>\n",
       "    </tr>\n",
       "  </thead>\n",
       "  <tbody>\n",
       "    <tr>\n",
       "      <th>0</th>\n",
       "      <td>2014-11-18</td>\n",
       "      <td>100001878</td>\n",
       "      <td>1</td>\n",
       "    </tr>\n",
       "    <tr>\n",
       "      <th>1</th>\n",
       "      <td>2014-11-18</td>\n",
       "      <td>100014060</td>\n",
       "      <td>2</td>\n",
       "    </tr>\n",
       "    <tr>\n",
       "      <th>2</th>\n",
       "      <td>2014-11-18</td>\n",
       "      <td>100024529</td>\n",
       "      <td>6</td>\n",
       "    </tr>\n",
       "    <tr>\n",
       "      <th>3</th>\n",
       "      <td>2014-11-18</td>\n",
       "      <td>100027681</td>\n",
       "      <td>3</td>\n",
       "    </tr>\n",
       "    <tr>\n",
       "      <th>4</th>\n",
       "      <td>2014-11-18</td>\n",
       "      <td>10004287</td>\n",
       "      <td>2</td>\n",
       "    </tr>\n",
       "    <tr>\n",
       "      <th>...</th>\n",
       "      <td>...</td>\n",
       "      <td>...</td>\n",
       "      <td>...</td>\n",
       "    </tr>\n",
       "    <tr>\n",
       "      <th>49196</th>\n",
       "      <td>2014-12-18</td>\n",
       "      <td>99674599</td>\n",
       "      <td>10</td>\n",
       "    </tr>\n",
       "    <tr>\n",
       "      <th>49197</th>\n",
       "      <td>2014-12-18</td>\n",
       "      <td>99785045</td>\n",
       "      <td>4</td>\n",
       "    </tr>\n",
       "    <tr>\n",
       "      <th>49198</th>\n",
       "      <td>2014-12-18</td>\n",
       "      <td>99791909</td>\n",
       "      <td>1</td>\n",
       "    </tr>\n",
       "    <tr>\n",
       "      <th>49199</th>\n",
       "      <td>2014-12-18</td>\n",
       "      <td>99795650</td>\n",
       "      <td>1</td>\n",
       "    </tr>\n",
       "    <tr>\n",
       "      <th>49200</th>\n",
       "      <td>2014-12-18</td>\n",
       "      <td>99796276</td>\n",
       "      <td>17</td>\n",
       "    </tr>\n",
       "  </tbody>\n",
       "</table>\n",
       "<p>49201 rows × 3 columns</p>\n",
       "</div>"
      ],
      "text/plain": [
       "            date    user_id  total\n",
       "0     2014-11-18  100001878      1\n",
       "1     2014-11-18  100014060      2\n",
       "2     2014-11-18  100024529      6\n",
       "3     2014-11-18  100027681      3\n",
       "4     2014-11-18   10004287      2\n",
       "...          ...        ...    ...\n",
       "49196 2014-12-18   99674599     10\n",
       "49197 2014-12-18   99785045      4\n",
       "49198 2014-12-18   99791909      1\n",
       "49199 2014-12-18   99795650      1\n",
       "49200 2014-12-18   99796276     17\n",
       "\n",
       "[49201 rows x 3 columns]"
      ]
     },
     "execution_count": 36,
     "metadata": {},
     "output_type": "execute_result"
    }
   ],
   "source": [
    "# 不同用户的人均消费次数\n",
    "d_user_buy1"
   ]
  },
  {
   "cell_type": "code",
   "execution_count": 37,
   "metadata": {},
   "outputs": [],
   "source": [
    "d_user_buy2 = d_user_buy1.groupby(\"date\").sum()[\"total\"]/d_user_buy1.groupby(\"date\").count()[\"total\"]"
   ]
  },
  {
   "cell_type": "code",
   "execution_count": 38,
   "metadata": {},
   "outputs": [
    {
     "data": {
      "text/plain": [
       "date\n",
       "2014-11-18    2.423652\n",
       "2014-11-19    2.439444\n",
       "2014-11-20    2.320375\n",
       "2014-11-21    2.271429\n",
       "2014-11-22    2.530120\n",
       "2014-11-23    2.330780\n",
       "2014-11-24    2.248031\n",
       "2014-11-25    2.313961\n",
       "2014-11-26    2.402824\n",
       "2014-11-27    2.403405\n",
       "2014-11-28    2.231623\n",
       "2014-11-29    2.331881\n",
       "2014-11-30    2.357236\n",
       "2014-12-01    2.359083\n",
       "2014-12-02    2.284543\n",
       "2014-12-03    2.289334\n",
       "2014-12-04    2.328707\n",
       "2014-12-05    2.223041\n",
       "2014-12-06    2.253444\n",
       "2014-12-07    2.320741\n",
       "2014-12-08    2.204384\n",
       "2014-12-09    2.413576\n",
       "2014-12-10    2.230236\n",
       "2014-12-11    2.226363\n",
       "2014-12-12    3.913523\n",
       "2014-12-13    2.245320\n",
       "2014-12-14    2.312749\n",
       "2014-12-15    2.313460\n",
       "2014-12-16    2.285455\n",
       "2014-12-17    2.302548\n",
       "2014-12-18    2.310567\n",
       "Name: total, dtype: float64"
      ]
     },
     "execution_count": 38,
     "metadata": {},
     "output_type": "execute_result"
    }
   ],
   "source": [
    "d_user_buy2 # 日ARPPU"
   ]
  },
  {
   "cell_type": "code",
   "execution_count": 39,
   "metadata": {},
   "outputs": [
    {
     "data": {
      "image/png": "[encoded data removed]",
      "text/plain": [
       "<Figure size 432x288 with 1 Axes>"
      ]
     },
     "metadata": {},
     "output_type": "display_data"
    }
   ],
   "source": [
    "d_user_buy2.plot()\n",
    "plt.show()"
   ]
  },
  {
   "cell_type": "code",
   "execution_count": 119,
   "metadata": {},
   "outputs": [
    {
     "data": {
      "text/plain": [
       "count    31.000000\n",
       "mean      2.368446\n",
       "std       0.296108\n",
       "min       2.204384\n",
       "25%       2.262436\n",
       "50%       2.313460\n",
       "75%       2.358159\n",
       "max       3.913523\n",
       "Name: total, dtype: float64"
      ]
     },
     "execution_count": 119,
     "metadata": {},
     "output_type": "execute_result"
    }
   ],
   "source": [
    "d_user_buy2.describe()"
   ]
  },
  {
   "cell_type": "markdown",
   "metadata": {},
   "source": [
    "> 根据日均消费次数变化趋势可知：双12的消费次数是最高的，平均每天消费次数大部分在1~2次间波动。"
   ]
  },
  {
   "cell_type": "markdown",
   "metadata": {},
   "source": [
    "#### 4.4.2 日ARPU--平均每用户收入 "
   ]
  },
  {
   "cell_type": "code",
   "execution_count": 124,
   "metadata": {},
   "outputs": [],
   "source": [
    "# 日ARPU=总收入/au\n",
    "# 活跃用户数：每天有操作行为的用户\n",
    "\n",
    "d_user[\"operation\"] = 1\n",
    "d_user_buy2 = d_user.groupby([\"date\",\"user_id\",\"behavior_type\"])[\"operation\"].count().reset_index().rename(columns={\"operation\":\"total\"})"
   ]
  },
  {
   "cell_type": "code",
   "execution_count": 125,
   "metadata": {},
   "outputs": [
    {
     "data": {
      "text/html": [
       "<div>\n",
       "<style scoped>\n",
       "    .dataframe tbody tr th:only-of-type {\n",
       "        vertical-align: middle;\n",
       "    }\n",
       "\n",
       "    .dataframe tbody tr th {\n",
       "        vertical-align: top;\n",
       "    }\n",
       "\n",
       "    .dataframe thead th {\n",
       "        text-align: right;\n",
       "    }\n",
       "</style>\n",
       "<table border=\"1\" class=\"dataframe\">\n",
       "  <thead>\n",
       "    <tr style=\"text-align: right;\">\n",
       "      <th></th>\n",
       "      <th>date</th>\n",
       "      <th>user_id</th>\n",
       "      <th>behavior_type</th>\n",
       "      <th>total</th>\n",
       "    </tr>\n",
       "  </thead>\n",
       "  <tbody>\n",
       "    <tr>\n",
       "      <th>0</th>\n",
       "      <td>2014-11-18</td>\n",
       "      <td>100001878</td>\n",
       "      <td>1</td>\n",
       "      <td>127</td>\n",
       "    </tr>\n",
       "    <tr>\n",
       "      <th>1</th>\n",
       "      <td>2014-11-18</td>\n",
       "      <td>100001878</td>\n",
       "      <td>3</td>\n",
       "      <td>8</td>\n",
       "    </tr>\n",
       "    <tr>\n",
       "      <th>2</th>\n",
       "      <td>2014-11-18</td>\n",
       "      <td>100001878</td>\n",
       "      <td>4</td>\n",
       "      <td>1</td>\n",
       "    </tr>\n",
       "    <tr>\n",
       "      <th>3</th>\n",
       "      <td>2014-11-18</td>\n",
       "      <td>100014060</td>\n",
       "      <td>1</td>\n",
       "      <td>23</td>\n",
       "    </tr>\n",
       "    <tr>\n",
       "      <th>4</th>\n",
       "      <td>2014-11-18</td>\n",
       "      <td>100014060</td>\n",
       "      <td>3</td>\n",
       "      <td>2</td>\n",
       "    </tr>\n",
       "    <tr>\n",
       "      <th>...</th>\n",
       "      <td>...</td>\n",
       "      <td>...</td>\n",
       "      <td>...</td>\n",
       "      <td>...</td>\n",
       "    </tr>\n",
       "    <tr>\n",
       "      <th>375435</th>\n",
       "      <td>2014-12-18</td>\n",
       "      <td>9996155</td>\n",
       "      <td>3</td>\n",
       "      <td>2</td>\n",
       "    </tr>\n",
       "    <tr>\n",
       "      <th>375436</th>\n",
       "      <td>2014-12-18</td>\n",
       "      <td>99963140</td>\n",
       "      <td>1</td>\n",
       "      <td>78</td>\n",
       "    </tr>\n",
       "    <tr>\n",
       "      <th>375437</th>\n",
       "      <td>2014-12-18</td>\n",
       "      <td>99963140</td>\n",
       "      <td>3</td>\n",
       "      <td>1</td>\n",
       "    </tr>\n",
       "    <tr>\n",
       "      <th>375438</th>\n",
       "      <td>2014-12-18</td>\n",
       "      <td>99968428</td>\n",
       "      <td>1</td>\n",
       "      <td>4</td>\n",
       "    </tr>\n",
       "    <tr>\n",
       "      <th>375439</th>\n",
       "      <td>2014-12-18</td>\n",
       "      <td>99989881</td>\n",
       "      <td>1</td>\n",
       "      <td>11</td>\n",
       "    </tr>\n",
       "  </tbody>\n",
       "</table>\n",
       "<p>375440 rows × 4 columns</p>\n",
       "</div>"
      ],
      "text/plain": [
       "             date    user_id behavior_type  total\n",
       "0      2014-11-18  100001878             1    127\n",
       "1      2014-11-18  100001878             3      8\n",
       "2      2014-11-18  100001878             4      1\n",
       "3      2014-11-18  100014060             1     23\n",
       "4      2014-11-18  100014060             3      2\n",
       "...           ...        ...           ...    ...\n",
       "375435 2014-12-18    9996155             3      2\n",
       "375436 2014-12-18   99963140             1     78\n",
       "375437 2014-12-18   99963140             3      1\n",
       "375438 2014-12-18   99968428             1      4\n",
       "375439 2014-12-18   99989881             1     11\n",
       "\n",
       "[375440 rows x 4 columns]"
      ]
     },
     "execution_count": 125,
     "metadata": {},
     "output_type": "execute_result"
    }
   ],
   "source": [
    "d_user_buy2"
   ]
  },
  {
   "cell_type": "code",
   "execution_count": 127,
   "metadata": {},
   "outputs": [],
   "source": [
    "# 统计用户每天的平均消费次数 日ARPU\n",
    "ARPU = d_user_buy2.groupby(\"date\").apply(lambda x: x[x[\"behavior_type\"]==\"4\"].total.sum()/len(x.user_id.unique()))"
   ]
  },
  {
   "cell_type": "code",
   "execution_count": 128,
   "metadata": {},
   "outputs": [
    {
     "data": {
      "text/plain": [
       "<matplotlib.axes._subplots.AxesSubplot at 0x1a8e56f4d0>"
      ]
     },
     "execution_count": 128,
     "metadata": {},
     "output_type": "execute_result"
    },
    {
     "data": {
      "image/png": "[encoded data removed]",
      "text/plain": [
       "<Figure size 432x288 with 1 Axes>"
      ]
     },
     "metadata": {},
     "output_type": "display_data"
    }
   ],
   "source": [
    "ARPU.plot()"
   ]
  },
  {
   "cell_type": "markdown",
   "metadata": {},
   "source": [
    "> 由图可知：淘宝活跃用户，平均消费次数比较低，在双12当天可达到0.5。"
   ]
  },
  {
   "cell_type": "markdown",
   "metadata": {},
   "source": [
    "#### 4.5 付费率=消费用户数/活跃用户数"
   ]
  },
  {
   "cell_type": "code",
   "execution_count": 135,
   "metadata": {},
   "outputs": [],
   "source": [
    "pay_rate = d_user_buy2.groupby(\"date\").apply(lambda x: x[x[\"behavior_type\"]==\"4\"].total.count()/len(x.user_id.unique()))"
   ]
  },
  {
   "cell_type": "code",
   "execution_count": 137,
   "metadata": {},
   "outputs": [
    {
     "data": {
      "text/plain": [
       "<matplotlib.axes._subplots.AxesSubplot at 0x1a85d9f690>"
      ]
     },
     "execution_count": 137,
     "metadata": {},
     "output_type": "execute_result"
    },
    {
     "data": {
      "image/png": "[encoded data removed]",
      "text/plain": [
       "<Figure size 432x288 with 1 Axes>"
      ]
     },
     "metadata": {},
     "output_type": "display_data"
    }
   ],
   "source": [
    "pay_rate.plot()"
   ]
  },
  {
   "cell_type": "markdown",
   "metadata": {},
   "source": [
    "> 由图可知：购买用户每天的购买次数在0.2~0.3之间波动，在双12当天可达到0.5以上。"
   ]
  },
  {
   "cell_type": "markdown",
   "metadata": {},
   "source": [
    "#### 4.6 同一时间段，用户消费次数的分布"
   ]
  },
  {
   "cell_type": "code",
   "execution_count": 140,
   "metadata": {},
   "outputs": [],
   "source": [
    "d_user_buy3 = d_user[d_user[\"behavior_type\"]==\"4\"].groupby([\"user_id\",\"date\",\"hour\"])[\"operation\"].sum()"
   ]
  },
  {
   "cell_type": "code",
   "execution_count": 142,
   "metadata": {},
   "outputs": [
    {
     "data": {
      "image/png": "[encoded data removed]",
      "text/plain": [
       "<Figure size 432x288 with 1 Axes>"
      ]
     },
     "metadata": {},
     "output_type": "display_data"
    }
   ],
   "source": [
    "sns.distplot(d_user_buy3)\n",
    "plt.show()"
   ]
  },
  {
   "cell_type": "code",
   "execution_count": 141,
   "metadata": {},
   "outputs": [
    {
     "data": {
      "text/plain": [
       "user_id    date        hour\n",
       "100001878  2014-11-18  20      1\n",
       "           2014-11-24  20      3\n",
       "           2014-11-25  13      2\n",
       "           2014-11-26  16      2\n",
       "                       21      1\n",
       "                              ..\n",
       "99989881   2014-12-05  1       1\n",
       "           2014-12-09  21      1\n",
       "           2014-12-12  0       2\n",
       "           2014-12-14  20      1\n",
       "           2014-12-15  23      1\n",
       "Name: operation, Length: 65223, dtype: int64"
      ]
     },
     "execution_count": 141,
     "metadata": {},
     "output_type": "execute_result"
    }
   ],
   "source": [
    "d_user_buy3"
   ]
  },
  {
   "cell_type": "markdown",
   "metadata": {},
   "source": [
    "#### 4.7 复购行为分析"
   ]
  },
  {
   "cell_type": "code",
   "execution_count": 150,
   "metadata": {},
   "outputs": [],
   "source": [
    "# 复购率=复购行为的用户数/购买行为的用户总数\n",
    "\n",
    "d_rebuy = d_user[d_user.behavior_type==\"4\"].groupby(\"user_id\")[\"date\"].apply(lambda x: len(x.unique()))"
   ]
  },
  {
   "cell_type": "code",
   "execution_count": 151,
   "metadata": {},
   "outputs": [
    {
     "data": {
      "text/plain": [
       "user_id\n",
       "100001878    15\n",
       "100011562     3\n",
       "100012968    11\n",
       "100014060    12\n",
       "100024529     9\n",
       "             ..\n",
       "99960313      5\n",
       "9996155       3\n",
       "99963140      8\n",
       "99968428      9\n",
       "99989881     13\n",
       "Name: date, Length: 8886, dtype: int64"
      ]
     },
     "execution_count": 151,
     "metadata": {},
     "output_type": "execute_result"
    }
   ],
   "source": [
    "d_rebuy # 不同用户的不同日期的购买次数"
   ]
  },
  {
   "cell_type": "code",
   "execution_count": 152,
   "metadata": {},
   "outputs": [],
   "source": [
    "rebuy_rate = d_rebuy[d_rebuy>=2].count()/d_rebuy.count()"
   ]
  },
  {
   "cell_type": "code",
   "execution_count": 154,
   "metadata": {},
   "outputs": [
    {
     "data": {
      "text/plain": [
       "0.8717083051991897"
      ]
     },
     "execution_count": 154,
     "metadata": {},
     "output_type": "execute_result"
    }
   ],
   "source": [
    "rebuy_rate"
   ]
  },
  {
   "cell_type": "code",
   "execution_count": 156,
   "metadata": {},
   "outputs": [],
   "source": [
    "d_day_buy = d_user[d_user.behavior_type==\"4\"].groupby(\"user_id\").date.apply(lambda x: x.sort_values()).diff(1).dropna()"
   ]
  },
  {
   "cell_type": "code",
   "execution_count": 157,
   "metadata": {},
   "outputs": [
    {
     "data": {
      "text/plain": [
       "user_id            \n",
       "100001878  2439076    6 days\n",
       "           2439090    0 days\n",
       "           2440428    0 days\n",
       "           2660355    1 days\n",
       "           2672617    0 days\n",
       "                       ...  \n",
       "99989881   8203371    4 days\n",
       "           9248497    3 days\n",
       "           9249028    0 days\n",
       "           10601909   2 days\n",
       "           11085567   1 days\n",
       "Name: date, Length: 120204, dtype: timedelta64[ns]"
      ]
     },
     "execution_count": 157,
     "metadata": {},
     "output_type": "execute_result"
    }
   ],
   "source": [
    "d_day_buy "
   ]
  },
  {
   "cell_type": "code",
   "execution_count": 160,
   "metadata": {},
   "outputs": [],
   "source": [
    "d = d_day_buy.map(lambda x: x.days)"
   ]
  },
  {
   "cell_type": "code",
   "execution_count": 162,
   "metadata": {},
   "outputs": [
    {
     "data": {
      "text/plain": [
       "count    120204.000000\n",
       "mean          0.000225\n",
       "std           6.214962\n",
       "min         -30.000000\n",
       "25%           0.000000\n",
       "50%           0.000000\n",
       "75%           1.000000\n",
       "max          30.000000\n",
       "Name: date, dtype: float64"
      ]
     },
     "execution_count": 162,
     "metadata": {},
     "output_type": "execute_result"
    }
   ],
   "source": [
    "# d.descripe()\n",
    "d.describe()"
   ]
  },
  {
   "cell_type": "markdown",
   "metadata": {},
   "source": [
    "#### 分析d.describe ???"
   ]
  },
  {
   "cell_type": "markdown",
   "metadata": {},
   "source": [
    "#### 4.8 漏洞流失分析"
   ]
  },
  {
   "cell_type": "code",
   "execution_count": 164,
   "metadata": {},
   "outputs": [
    {
     "data": {
      "text/plain": [
       "behavior_type\n",
       "1    11550581\n",
       "2      242556\n",
       "3      343564\n",
       "4      120205\n",
       "dtype: int64"
      ]
     },
     "execution_count": 164,
     "metadata": {},
     "output_type": "execute_result"
    }
   ],
   "source": [
    "d_user_count = d_user.groupby(\"behavior_type\").size()\n",
    "d_user_count"
   ]
  },
  {
   "cell_type": "code",
   "execution_count": 167,
   "metadata": {},
   "outputs": [],
   "source": [
    "pv_all = d_user[\"user_id\"].count()"
   ]
  },
  {
   "cell_type": "code",
   "execution_count": 168,
   "metadata": {},
   "outputs": [
    {
     "data": {
      "text/plain": [
       "0.05762669632939993"
      ]
     },
     "execution_count": 168,
     "metadata": {},
     "output_type": "execute_result"
    }
   ],
   "source": [
    "(pv_all-d_user_count[0])/pv_all # 流失量"
   ]
  },
  {
   "cell_type": "code",
   "execution_count": 172,
   "metadata": {},
   "outputs": [
    {
     "data": {
      "text/plain": [
       "0.9702556953628566"
      ]
     },
     "execution_count": 172,
     "metadata": {},
     "output_type": "execute_result"
    }
   ],
   "source": [
    "(d_user_count[0] - d_user_count[2])/d_user_count[0] # 流失率 从浏览到加入购物车"
   ]
  },
  {
   "cell_type": "code",
   "execution_count": 173,
   "metadata": {},
   "outputs": [
    {
     "data": {
      "text/plain": [
       "0.29400053556251526"
      ]
     },
     "execution_count": 173,
     "metadata": {},
     "output_type": "execute_result"
    }
   ],
   "source": [
    "(d_user_count[2] - d_user_count[1])/d_user_count[2] # 从加入购物车到收藏"
   ]
  },
  {
   "cell_type": "code",
   "execution_count": 174,
   "metadata": {},
   "outputs": [
    {
     "data": {
      "text/plain": [
       "0.5044237207077953"
      ]
     },
     "execution_count": 174,
     "metadata": {},
     "output_type": "execute_result"
    }
   ],
   "source": [
    "(d_user_count[1] - d_user_count[3])/d_user_count[1] # 从收藏到购买的流失率"
   ]
  },
  {
   "cell_type": "markdown",
   "metadata": {},
   "source": [
    "漏斗流失分析：\n",
    "> 浏览量-> 点击量  流失率为5.7%\n",
    "> 点击量-> 加购物车  流失率为97%\n",
    "> 加购物车-> 收藏 流失率为29%\n",
    "> 收藏-> 购买量  流失率为50%\n",
    "\n",
    "通过流失率的计算和分析重视每个环节极可能发生的原因和情况."
   ]
  },
  {
   "cell_type": "markdown",
   "metadata": {},
   "source": [
    "#### 4.9 用户价值的RFM分析"
   ]
  },
  {
   "cell_type": "code",
   "execution_count": 176,
   "metadata": {},
   "outputs": [],
   "source": [
    "from datetime import datetime"
   ]
  },
  {
   "cell_type": "code",
   "execution_count": 202,
   "metadata": {},
   "outputs": [],
   "source": [
    "# 参考日期-用户最近购买日期的间隔\n",
    "recent_b_time = d_user[d_user[\"behavior_type\"]==\"4\"].groupby(\"user_id\")[\"date\"].apply(lambda x: datetime(2014,12,20)-x.sort_values().iloc[-1])"
   ]
  },
  {
   "cell_type": "code",
   "execution_count": 203,
   "metadata": {},
   "outputs": [
    {
     "data": {
      "text/plain": [
       "user_id\n",
       "100001878    2 days\n",
       "100011562    4 days\n",
       "100012968    2 days\n",
       "100014060    2 days\n",
       "100024529    4 days\n",
       "              ...  \n",
       "99960313     7 days\n",
       "9996155     13 days\n",
       "99963140     5 days\n",
       "99968428     6 days\n",
       "99989881     5 days\n",
       "Name: date, Length: 8886, dtype: timedelta64[ns]"
      ]
     },
     "execution_count": 203,
     "metadata": {},
     "output_type": "execute_result"
    }
   ],
   "source": [
    "recent_b_time "
   ]
  },
  {
   "cell_type": "code",
   "execution_count": 204,
   "metadata": {},
   "outputs": [],
   "source": [
    "recent_b_time = recent_b_time.reset_index().rename(columns={\"date\":\"recent\"})"
   ]
  },
  {
   "cell_type": "code",
   "execution_count": 205,
   "metadata": {},
   "outputs": [
    {
     "data": {
      "text/html": [
       "<div>\n",
       "<style scoped>\n",
       "    .dataframe tbody tr th:only-of-type {\n",
       "        vertical-align: middle;\n",
       "    }\n",
       "\n",
       "    .dataframe tbody tr th {\n",
       "        vertical-align: top;\n",
       "    }\n",
       "\n",
       "    .dataframe thead th {\n",
       "        text-align: right;\n",
       "    }\n",
       "</style>\n",
       "<table border=\"1\" class=\"dataframe\">\n",
       "  <thead>\n",
       "    <tr style=\"text-align: right;\">\n",
       "      <th></th>\n",
       "      <th>user_id</th>\n",
       "      <th>recent</th>\n",
       "    </tr>\n",
       "  </thead>\n",
       "  <tbody>\n",
       "    <tr>\n",
       "      <th>0</th>\n",
       "      <td>100001878</td>\n",
       "      <td>2</td>\n",
       "    </tr>\n",
       "    <tr>\n",
       "      <th>1</th>\n",
       "      <td>100011562</td>\n",
       "      <td>4</td>\n",
       "    </tr>\n",
       "    <tr>\n",
       "      <th>2</th>\n",
       "      <td>100012968</td>\n",
       "      <td>2</td>\n",
       "    </tr>\n",
       "    <tr>\n",
       "      <th>3</th>\n",
       "      <td>100014060</td>\n",
       "      <td>2</td>\n",
       "    </tr>\n",
       "    <tr>\n",
       "      <th>4</th>\n",
       "      <td>100024529</td>\n",
       "      <td>4</td>\n",
       "    </tr>\n",
       "    <tr>\n",
       "      <th>...</th>\n",
       "      <td>...</td>\n",
       "      <td>...</td>\n",
       "    </tr>\n",
       "    <tr>\n",
       "      <th>8881</th>\n",
       "      <td>99960313</td>\n",
       "      <td>7</td>\n",
       "    </tr>\n",
       "    <tr>\n",
       "      <th>8882</th>\n",
       "      <td>9996155</td>\n",
       "      <td>13</td>\n",
       "    </tr>\n",
       "    <tr>\n",
       "      <th>8883</th>\n",
       "      <td>99963140</td>\n",
       "      <td>5</td>\n",
       "    </tr>\n",
       "    <tr>\n",
       "      <th>8884</th>\n",
       "      <td>99968428</td>\n",
       "      <td>6</td>\n",
       "    </tr>\n",
       "    <tr>\n",
       "      <th>8885</th>\n",
       "      <td>99989881</td>\n",
       "      <td>5</td>\n",
       "    </tr>\n",
       "  </tbody>\n",
       "</table>\n",
       "<p>8886 rows × 2 columns</p>\n",
       "</div>"
      ],
      "text/plain": [
       "        user_id  recent\n",
       "0     100001878       2\n",
       "1     100011562       4\n",
       "2     100012968       2\n",
       "3     100014060       2\n",
       "4     100024529       4\n",
       "...         ...     ...\n",
       "8881   99960313       7\n",
       "8882    9996155      13\n",
       "8883   99963140       5\n",
       "8884   99968428       6\n",
       "8885   99989881       5\n",
       "\n",
       "[8886 rows x 2 columns]"
      ]
     },
     "execution_count": 205,
     "metadata": {},
     "output_type": "execute_result"
    }
   ],
   "source": [
    "recent_b_time.recent = recent_b_time.recent.apply(lambda x:x.days)\n",
    "recent_b_time"
   ]
  },
  {
   "cell_type": "code",
   "execution_count": null,
   "metadata": {},
   "outputs": [],
   "source": [
    "# 统计每个用户的消费频率"
   ]
  },
  {
   "cell_type": "code",
   "execution_count": 206,
   "metadata": {},
   "outputs": [
    {
     "data": {
      "text/plain": [
       "user_id\n",
       "100001878    36\n",
       "100011562     3\n",
       "100012968    15\n",
       "100014060    24\n",
       "100024529    26\n",
       "             ..\n",
       "99960313      8\n",
       "9996155       6\n",
       "99963140     19\n",
       "99968428     38\n",
       "99989881     17\n",
       "Name: date, Length: 8886, dtype: int64"
      ]
     },
     "execution_count": 206,
     "metadata": {},
     "output_type": "execute_result"
    }
   ],
   "source": [
    "buy_freq = d_user[d_user[\"behavior_type\"]==\"4\"].groupby(\"user_id\").date.count()\n",
    "buy_freq"
   ]
  },
  {
   "cell_type": "code",
   "execution_count": 207,
   "metadata": {},
   "outputs": [
    {
     "data": {
      "text/html": [
       "<div>\n",
       "<style scoped>\n",
       "    .dataframe tbody tr th:only-of-type {\n",
       "        vertical-align: middle;\n",
       "    }\n",
       "\n",
       "    .dataframe tbody tr th {\n",
       "        vertical-align: top;\n",
       "    }\n",
       "\n",
       "    .dataframe thead th {\n",
       "        text-align: right;\n",
       "    }\n",
       "</style>\n",
       "<table border=\"1\" class=\"dataframe\">\n",
       "  <thead>\n",
       "    <tr style=\"text-align: right;\">\n",
       "      <th></th>\n",
       "      <th>user_id</th>\n",
       "      <th>freq</th>\n",
       "    </tr>\n",
       "  </thead>\n",
       "  <tbody>\n",
       "    <tr>\n",
       "      <th>0</th>\n",
       "      <td>100001878</td>\n",
       "      <td>36</td>\n",
       "    </tr>\n",
       "    <tr>\n",
       "      <th>1</th>\n",
       "      <td>100011562</td>\n",
       "      <td>3</td>\n",
       "    </tr>\n",
       "    <tr>\n",
       "      <th>2</th>\n",
       "      <td>100012968</td>\n",
       "      <td>15</td>\n",
       "    </tr>\n",
       "    <tr>\n",
       "      <th>3</th>\n",
       "      <td>100014060</td>\n",
       "      <td>24</td>\n",
       "    </tr>\n",
       "    <tr>\n",
       "      <th>4</th>\n",
       "      <td>100024529</td>\n",
       "      <td>26</td>\n",
       "    </tr>\n",
       "    <tr>\n",
       "      <th>...</th>\n",
       "      <td>...</td>\n",
       "      <td>...</td>\n",
       "    </tr>\n",
       "    <tr>\n",
       "      <th>8881</th>\n",
       "      <td>99960313</td>\n",
       "      <td>8</td>\n",
       "    </tr>\n",
       "    <tr>\n",
       "      <th>8882</th>\n",
       "      <td>9996155</td>\n",
       "      <td>6</td>\n",
       "    </tr>\n",
       "    <tr>\n",
       "      <th>8883</th>\n",
       "      <td>99963140</td>\n",
       "      <td>19</td>\n",
       "    </tr>\n",
       "    <tr>\n",
       "      <th>8884</th>\n",
       "      <td>99968428</td>\n",
       "      <td>38</td>\n",
       "    </tr>\n",
       "    <tr>\n",
       "      <th>8885</th>\n",
       "      <td>99989881</td>\n",
       "      <td>17</td>\n",
       "    </tr>\n",
       "  </tbody>\n",
       "</table>\n",
       "<p>8886 rows × 2 columns</p>\n",
       "</div>"
      ],
      "text/plain": [
       "        user_id  freq\n",
       "0     100001878    36\n",
       "1     100011562     3\n",
       "2     100012968    15\n",
       "3     100014060    24\n",
       "4     100024529    26\n",
       "...         ...   ...\n",
       "8881   99960313     8\n",
       "8882    9996155     6\n",
       "8883   99963140    19\n",
       "8884   99968428    38\n",
       "8885   99989881    17\n",
       "\n",
       "[8886 rows x 2 columns]"
      ]
     },
     "execution_count": 207,
     "metadata": {},
     "output_type": "execute_result"
    }
   ],
   "source": [
    "buy_freq = buy_freq.reset_index().rename(columns={\"date\":\"freq\"})\n",
    "buy_freq"
   ]
  },
  {
   "cell_type": "code",
   "execution_count": 224,
   "metadata": {},
   "outputs": [],
   "source": [
    "# 基于最近一次消费间隔和消费频次进行分析\n",
    "rfm = pd.merge(recent_b_time,buy_freq,left_on=\"user_id\",right_on=\"user_id\")"
   ]
  },
  {
   "cell_type": "code",
   "execution_count": 225,
   "metadata": {},
   "outputs": [],
   "source": [
    "# 由于数据集没有消费金额，所以只能针对消费间隔和消费频次进行分析\n",
    "# 将各个维度分成两个程度，分数越高越好，基于等频分段\n",
    "\n",
    "rfm[\"recent_value\"] = pd.qcut(rfm.recent, 2, labels=[\"2\",\"1\"])\n",
    "rfm[\"freq_value\"] = pd.qcut(rfm.freq, 2, labels=[\"1\",\"2\"]) # 频率越大越好"
   ]
  },
  {
   "cell_type": "code",
   "execution_count": 227,
   "metadata": {},
   "outputs": [
    {
     "data": {
      "text/html": [
       "<div>\n",
       "<style scoped>\n",
       "    .dataframe tbody tr th:only-of-type {\n",
       "        vertical-align: middle;\n",
       "    }\n",
       "\n",
       "    .dataframe tbody tr th {\n",
       "        vertical-align: top;\n",
       "    }\n",
       "\n",
       "    .dataframe thead th {\n",
       "        text-align: right;\n",
       "    }\n",
       "</style>\n",
       "<table border=\"1\" class=\"dataframe\">\n",
       "  <thead>\n",
       "    <tr style=\"text-align: right;\">\n",
       "      <th></th>\n",
       "      <th>user_id</th>\n",
       "      <th>recent</th>\n",
       "      <th>freq</th>\n",
       "      <th>recent_value</th>\n",
       "      <th>freq_value</th>\n",
       "      <th>rfm</th>\n",
       "    </tr>\n",
       "  </thead>\n",
       "  <tbody>\n",
       "    <tr>\n",
       "      <th>0</th>\n",
       "      <td>100001878</td>\n",
       "      <td>2</td>\n",
       "      <td>36</td>\n",
       "      <td>2</td>\n",
       "      <td>2</td>\n",
       "      <td>22</td>\n",
       "    </tr>\n",
       "    <tr>\n",
       "      <th>1</th>\n",
       "      <td>100011562</td>\n",
       "      <td>4</td>\n",
       "      <td>3</td>\n",
       "      <td>2</td>\n",
       "      <td>1</td>\n",
       "      <td>21</td>\n",
       "    </tr>\n",
       "    <tr>\n",
       "      <th>2</th>\n",
       "      <td>100012968</td>\n",
       "      <td>2</td>\n",
       "      <td>15</td>\n",
       "      <td>2</td>\n",
       "      <td>2</td>\n",
       "      <td>22</td>\n",
       "    </tr>\n",
       "    <tr>\n",
       "      <th>3</th>\n",
       "      <td>100014060</td>\n",
       "      <td>2</td>\n",
       "      <td>24</td>\n",
       "      <td>2</td>\n",
       "      <td>2</td>\n",
       "      <td>22</td>\n",
       "    </tr>\n",
       "    <tr>\n",
       "      <th>4</th>\n",
       "      <td>100024529</td>\n",
       "      <td>4</td>\n",
       "      <td>26</td>\n",
       "      <td>2</td>\n",
       "      <td>2</td>\n",
       "      <td>22</td>\n",
       "    </tr>\n",
       "    <tr>\n",
       "      <th>...</th>\n",
       "      <td>...</td>\n",
       "      <td>...</td>\n",
       "      <td>...</td>\n",
       "      <td>...</td>\n",
       "      <td>...</td>\n",
       "      <td>...</td>\n",
       "    </tr>\n",
       "    <tr>\n",
       "      <th>8881</th>\n",
       "      <td>99960313</td>\n",
       "      <td>7</td>\n",
       "      <td>8</td>\n",
       "      <td>1</td>\n",
       "      <td>1</td>\n",
       "      <td>11</td>\n",
       "    </tr>\n",
       "    <tr>\n",
       "      <th>8882</th>\n",
       "      <td>9996155</td>\n",
       "      <td>13</td>\n",
       "      <td>6</td>\n",
       "      <td>1</td>\n",
       "      <td>1</td>\n",
       "      <td>11</td>\n",
       "    </tr>\n",
       "    <tr>\n",
       "      <th>8883</th>\n",
       "      <td>99963140</td>\n",
       "      <td>5</td>\n",
       "      <td>19</td>\n",
       "      <td>2</td>\n",
       "      <td>2</td>\n",
       "      <td>22</td>\n",
       "    </tr>\n",
       "    <tr>\n",
       "      <th>8884</th>\n",
       "      <td>99968428</td>\n",
       "      <td>6</td>\n",
       "      <td>38</td>\n",
       "      <td>2</td>\n",
       "      <td>2</td>\n",
       "      <td>22</td>\n",
       "    </tr>\n",
       "    <tr>\n",
       "      <th>8885</th>\n",
       "      <td>99989881</td>\n",
       "      <td>5</td>\n",
       "      <td>17</td>\n",
       "      <td>2</td>\n",
       "      <td>2</td>\n",
       "      <td>22</td>\n",
       "    </tr>\n",
       "  </tbody>\n",
       "</table>\n",
       "<p>8886 rows × 6 columns</p>\n",
       "</div>"
      ],
      "text/plain": [
       "        user_id  recent  freq recent_value freq_value rfm\n",
       "0     100001878       2    36            2          2  22\n",
       "1     100011562       4     3            2          1  21\n",
       "2     100012968       2    15            2          2  22\n",
       "3     100014060       2    24            2          2  22\n",
       "4     100024529       4    26            2          2  22\n",
       "...         ...     ...   ...          ...        ...  ..\n",
       "8881   99960313       7     8            1          1  11\n",
       "8882    9996155      13     6            1          1  11\n",
       "8883   99963140       5    19            2          2  22\n",
       "8884   99968428       6    38            2          2  22\n",
       "8885   99989881       5    17            2          2  22\n",
       "\n",
       "[8886 rows x 6 columns]"
      ]
     },
     "execution_count": 227,
     "metadata": {},
     "output_type": "execute_result"
    }
   ],
   "source": [
    "rfm[\"rfm\"] = rfm[\"recent_value\"].str.cat(rfm[\"freq_value\"])\n",
    "rfm"
   ]
  },
  {
   "cell_type": "markdown",
   "metadata": {},
   "source": [
    "#### 分析rfm对客户进行分类，4类：\n",
    "> 22：重点关注用户,加大关注力度。\n",
    "\n",
    "> 21：忠诚度比较高的用户，但购买能力不足，可以适当给折扣或者进行捆绑消费。\n",
    "\n",
    "> 12: 忠诚度不高，但购买能力较强因此也需要重点关注。\n",
    "\n",
    "> 11: 针对这类用户，不需要太多的关注度。"
   ]
  },
  {
   "cell_type": "markdown",
   "metadata": {},
   "source": [
    "### 5.提出结论"
   ]
  },
  {
   "cell_type": "markdown",
   "metadata": {},
   "source": [
    "> (1)通过观察uv和pv的变化趋势，发现pv和uv成正相关，在双12期间，pv和uv达到峰值，且pv和uv的数值访问量差距比较大，说明一个用户每天可能会访问上百次。\n",
    "\n",
    "> (2)通过不同用户的不同行为分析，可知：相对其他三类行为,点击行为的用户量是最多的;\n",
    "在其他三类行为中，该购物车行为最多，收藏其次，购买数量最少；因此，在后续的漏洞分析中，行为3的分析顺序优先于行为2。\n",
    "\n",
    "> (3)通过分析日ARPPU和日ARPU可知：日ARPPU和日ARPU在双12当天较高。\n",
    "\n",
    "> (4)通过对用户的复购行为分析可知：复购率为81.17%。\n",
    "\n",
    "> (5)漏斗流失分析：\n",
    ">> 浏览量-> 点击量 流失率为5.7% 点击量-> 加购物车 流失率为97% 加购物车-> 收藏 流失率为29% 收藏-> 购买量 流失率为50%。\n",
    ">通过流失率的计算和分析重视每个环节极可能发生的原因和情况.\n",
    "\n",
    "> (6)用户价值的RFM分析:\n",
    ">> 22：重点关注用户,加大关注力度。\n",
    "21：忠诚度比较高的用户，但购买能力不足，可以适当给折扣或者进行捆绑消费。\n",
    "12: 忠诚度不高，但购买能力较强因此也需要重点关注。\n",
    "11: 针对这类用户，不需要太多的关注度。"
   ]
  }
 ],
 "metadata": {
  "kernelspec": {
   "display_name": "Python 3",
   "language": "python",
   "name": "python3"
  },
  "language_info": {
   "codemirror_mode": {
    "name": "ipython",
    "version": 3
   },
   "file_extension": ".py",
   "mimetype": "text/x-python",
   "name": "python",
   "nbconvert_exporter": "python",
   "pygments_lexer": "ipython3",
   "version": "3.7.6"
  }
 },
 "nbformat": 4,
 "nbformat_minor": 4
}
